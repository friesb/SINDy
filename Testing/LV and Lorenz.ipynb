{
 "cells": [
  {
   "cell_type": "code",
   "execution_count": 2,
   "metadata": {},
   "outputs": [],
   "source": [
    "# Run all setup-code\n",
    "import numpy as np\n",
    "import scipy as sp\n",
    "import matplotlib.pyplot as mplot\n",
    "from mpl_toolkits.mplot3d import Axes3D\n",
    "import scipy.integrate as integrate\n",
    "import matplotlib.animation as animation\n",
    "import numpy.linalg as LA\n",
    "import gplearn as gp\n",
    "import scipy.optimize as opt\n",
    "from mpl_toolkits import mplot3d\n",
    "from scipy.optimize import fsolve\n",
    "from matplotlib.pylab import time\n",
    "from matplotlib.animation import FFMpegWriter\n",
    "import sklearn.linear_model as sklm\n"
   ]
  },
  {
   "cell_type": "markdown",
   "metadata": {},
   "source": [
    "## January 31, 2020: SINDy Lokta-Voltera"
   ]
  },
  {
   "cell_type": "markdown",
   "metadata": {},
   "source": [
    "This work is directly motivated by that of Nathan Kutz and Kathleen Champion, who developed SINDy, which takes data from dynamical systems and reproduces the governing equations. We want to find $f(x)$ where  \n",
    "$$\n",
    "\\dot{x}(t) = f(x(t))\n",
    "$$\n",
    "given $\\dot{x}$ and $x$ at various time values. We take the data from one orbit and project onto a matrix that represents different possible functions. In general, we solve \n",
    "$$\n",
    "\\dot{x} = \\Theta\\xi\n",
    "$$\n",
    "where $\\Theta$ is constructed as different possible terms in $f(x)$. For example, if it is believed that a constant function might appear in $f(x)$, then $\\Theta$ will have a column of $1$s. If we have $x = [x_1, x_2]$ and we believe there is a term $x_1^2$ then we include a column that is $\\bar{x_1}^2$ where $\\bar{x_1}$ is the given information of $x_1$. \\\\\n",
    "\n",
    "Once we have constructed $\\Theta$ with appropriate guesses, we preform a least-squares regression to solve for $\\xi$. $\\xi$ then acts as the coefficients on the columns of $\\Theta$ corresponding to their function values."
   ]
  },
  {
   "cell_type": "markdown",
   "metadata": {},
   "source": [
    "The first attempt at running SINDy was through data simulated from Lokta-Voltera. The original system was of the form \n",
    "$$\n",
    "\\begin{array}{c}\n",
    "\\dot{x_1} = ax + by\\\\\n",
    "\\dot{x_2} = cx + dy\n",
    "\\end{array}\n",
    "$$\n",
    "with various values for $a,b,c,d\\in \\mathbb{R}$. These simulations were run in Python and the data for $X = [x_1,x_2]$ and $\\dot{X}$ were collected. In our experiments we use $a=2/3$, $b=-4/3$, $c=1$ and $d=-1$. "
   ]
  },
  {
   "cell_type": "code",
   "execution_count": 3,
   "metadata": {},
   "outputs": [
    {
     "data": {
      "text/plain": [
       "[<matplotlib.lines.Line2D at 0x7f9c6aeca610>]"
      ]
     },
     "execution_count": 3,
     "metadata": {},
     "output_type": "execute_result"
    },
    {
     "data": {
      "image/png": "[encoded data removed]",
      "text/plain": [
       "<Figure size 432x288 with 1 Axes>"
      ]
     },
     "metadata": {
      "needs_background": "light"
     },
     "output_type": "display_data"
    }
   ],
   "source": [
    "# Lokta-Voltera as proof of concept. \n",
    "\n",
    "#coefficients of Lokta-Voltera or modified model\n",
    "a=2/3\n",
    "b=-4/3\n",
    "c=1\n",
    "d=-1\n",
    "\n",
    "#Time for dynamical system simulation\n",
    "tstart=0 # start time\n",
    "tstop=20 # end time\n",
    "meshsize=100000\n",
    "time=np.linspace(tstart,tstop,meshsize) # setting up time mesh\n",
    "total_variables = 2 #dimention of the system\n",
    "\n",
    "#Initial Values\n",
    "IP=[.5,1]\n",
    "\n",
    "# Lokta-Voltera Function\n",
    "def LV(X,t):\n",
    "    dXdt=[a*X[0]+b*X[1], c*X[0]+d*X[1]]\n",
    "    return dXdt\n",
    "\n",
    "# Solve the ODE\n",
    "A=integrate.odeint(LV, IP, time) \n",
    "\n",
    "dXdt=np.empty([meshsize,2])\n",
    "\n",
    "#Solve for dXdt\n",
    "for i in range(meshsize):\n",
    "    dXdt[i,:]=LV(A[i,:], time[i])\n",
    "\n",
    "# Plot the trajectory for verification\n",
    "mplot.plot(A[:,0],A[:,1])"
   ]
  },
  {
   "cell_type": "markdown",
   "metadata": {},
   "source": [
    "Once we have constructed $\\Theta$ with appropriate guesses, we preform a least-squares regression to solve for $\\xi$. $\\xi$ then acts as the coefficients on the columns of $\\Theta$ corresponding to their function values. In this case we use the guesses $1$ $x$, $y$, $xy$, $x^2$, $y^2$, and $\\sin(x)$. "
   ]
  },
  {
   "cell_type": "code",
   "execution_count": 4,
   "metadata": {},
   "outputs": [],
   "source": [
    "## List of Potential Functions\n",
    "# Constant\n",
    "One = np.ones([meshsize, 1]) \n",
    "# Linear\n",
    "x = A[:,0]\n",
    "y = A[:,1]\n",
    "# Quadratic\n",
    "xy = np.multiply(x,y)\n",
    "x2 = x**2\n",
    "y2 = y**2\n",
    "# Nonlinear \n",
    "sinx = sp.sin(x)\n",
    "\n",
    "\n",
    "# Actual answer for comparison of errors \n",
    "Actual = np.empty([7,2])\n",
    "Actual[:,0] = np.transpose([0,a,b,0,0,0,0])\n",
    "Actual[:,1] = np.transpose([0,c,d,0,0,0,0])\n",
    "\n",
    "\n",
    "\n",
    "#Make a Theta Matrix\n",
    "Theta = np.column_stack((One, x, y, xy, x2, y2, sinx))\n",
    "\n",
    "#Solve for Coeffcients\n",
    "Xi = LA.lstsq(Theta,dXdt, rcond = None)[0]"
   ]
  },
  {
   "cell_type": "markdown",
   "metadata": {},
   "source": [
    "We then use SINDy as a tool to refine our regression. We input a threshold $\\lambda$ and zero-out any components $\\xi_{ij}<\\lambda$. We then regress on the remaining components and repeat this process 1 to 10 times. A stopping condition can be added to achieve best results and efficiency."
   ]
  },
  {
   "cell_type": "code",
   "execution_count": 5,
   "metadata": {},
   "outputs": [
    {
     "name": "stdout",
     "output_type": "stream",
     "text": [
      "Normal\n",
      "Coefficients                               Norm Error                 Entry Error\n",
      "[[ 0.          0.        ]\n",
      " [ 0.66666667  1.        ]\n",
      " [-1.33333333 -1.        ]\n",
      " [ 0.          0.        ]\n",
      " [ 0.          0.        ]\n",
      " [ 0.          0.        ]\n",
      " [ 0.          0.        ]]                1.3732700395566712e-14                   8.43769498715119e-15\n"
     ]
    }
   ],
   "source": [
    "l=.1 # Set the Threshold value \n",
    "\n",
    "condition = np.abs(Xi) > l # Set a condition for below threshold\n",
    "Xi = np.where(condition, Xi, np.zeros(Xi.shape)) # Zero-out all elements below l\n",
    "\n",
    "# Re-regress\n",
    "for j in range(2):# 2 because that is the total number of variables\n",
    "    vec = condition[:,j] # Extract first variable\n",
    "    bigind = [i for i in range(len(vec)) if vec[i] == True] #Save the large values\n",
    "    # Rerun the regression on the functions with components >l\n",
    "    Xi[bigind, j] = LA.lstsq(Theta[:, bigind], dXdt[:,j], rcond = None)[0]\n",
    "\n",
    "# Find the Error, both induced 2-norm and Frobenius\n",
    "norm_error = LA.norm(Xi-Actual)\n",
    "entry_error = np.amax(Xi-Actual)\n",
    "\n",
    "print('Normal')\n",
    "print('Coefficients                               Norm Error                 Entry Error')\n",
    "print(Xi,'              ', norm_error,'                 ', entry_error)"
   ]
  },
  {
   "cell_type": "markdown",
   "metadata": {},
   "source": [
    "Notice in this case, we got the exact results after one iteration of regression. However, we will notice when we add noise this will be necessary.\n",
    "\n",
    "In the next code, we consider adding noise to $\\dot{X}$ to see how the regression behaves. "
   ]
  },
  {
   "cell_type": "code",
   "execution_count": 6,
   "metadata": {},
   "outputs": [],
   "source": [
    "eta = 5 # Noise magnitude\n",
    "Z = np.random.normal(0,eta,dXdt.size) # Create Noise Matrix\n",
    "Z = np.reshape(Z, dXdt.shape)\n",
    "\n",
    "dXdt_rand = dXdt - eta*Z # Add Noise to dXdt"
   ]
  },
  {
   "cell_type": "markdown",
   "metadata": {},
   "source": [
    "We then re-run SINDy to see how well the regression has worked."
   ]
  },
  {
   "cell_type": "code",
   "execution_count": 7,
   "metadata": {
    "scrolled": true
   },
   "outputs": [
    {
     "name": "stdout",
     "output_type": "stream",
     "text": [
      "                \n",
      "Noise\n",
      "Coefficients                               Norm Error                 Entry Error\n",
      "[[ 0.          0.        ]\n",
      " [ 0.84231326  1.19363076]\n",
      " [-1.40555397 -1.35785336]\n",
      " [ 0.          0.        ]\n",
      " [ 0.          0.        ]\n",
      " [ 0.          0.        ]\n",
      " [ 0.          0.        ]]       0.44902053786405405          0.19363075622113324\n"
     ]
    }
   ],
   "source": [
    "#Solve for Coeffcients\n",
    "Xi_rand = LA.lstsq(Theta,dXdt_rand, rcond = None)[0]\n",
    "\n",
    "l=.5\n",
    "\n",
    "for k in range(1): # Number of times we re-regress\n",
    "    condition = np.abs(Xi) > l\n",
    "    Xi_rand = np.where(condition, Xi_rand, np.zeros(Xi.shape))\n",
    "\n",
    "    for j in range(2):\n",
    "        vec = condition[:,j]\n",
    "        bigind = [i for i in range(len(vec)) if vec[i] == True]\n",
    "        Xi_rand[bigind, j] = LA.lstsq(Theta[:, bigind], dXdt_rand[:,j], rcond = None)[0]\n",
    "        \n",
    "        \n",
    "norm_error_rand = LA.norm(Xi_rand-Actual)\n",
    "entry_error_rand = np.amax(Xi_rand-Actual)\n",
    "\n",
    "print('                ')\n",
    "print('Noise')\n",
    "print('Coefficients                               Norm Error                 Entry Error')\n",
    "print(Xi_rand,'     ', norm_error_rand,'        ', entry_error_rand)"
   ]
  },
  {
   "cell_type": "markdown",
   "metadata": {},
   "source": [
    "Another common sparse regression tool we consider is LASSO to see how it compares. LASSO seeks to minimize \n",
    "$$\n",
    "||x-A\\bar{x}||_2+||x||_1\n",
    "$$\n",
    "when searching for $x=A\\bar{x}$. However, we notice that this does not work well in our case, primarily because it seems to arbitrarily minimize components of $\\xi$ instead of those that contribute significantly."
   ]
  },
  {
   "cell_type": "code",
   "execution_count": 8,
   "metadata": {},
   "outputs": [
    {
     "name": "stdout",
     "output_type": "stream",
     "text": [
      "                \n",
      "Lasso\n",
      "Coefficients                               Norm Error                 Entry Error\n",
      "[[ 0.  0.]\n",
      " [-0.  0.]\n",
      " [-0. -0.]\n",
      " [ 0. -0.]\n",
      " [ 0. -0.]\n",
      " [-0. -0.]\n",
      " [-0.  0.]]       2.0548046676563256          1.3333333333333333\n"
     ]
    }
   ],
   "source": [
    "LSO = sklm.Lasso(alpha=10, max_iter=10000) # Set up the LASSO\n",
    "LSO.fit(Theta, dXdt) # Train the network \n",
    "Xi_Lasso = np.transpose(np.vstack((LSO.coef_[0][:],LSO.coef_[1][:]))) # Extract the coefficients \n",
    "\n",
    "norm_error_Lasso = LA.norm(Xi_Lasso-Actual)\n",
    "entry_error_Lasso = np.amax(Xi_Lasso-Actual)\n",
    "\n",
    "\n",
    "print('                ')\n",
    "print('Lasso')\n",
    "print('Coefficients                               Norm Error                 Entry Error')\n",
    "print(Xi_Lasso,'     ', norm_error_Lasso,'        ', entry_error_Lasso)"
   ]
  },
  {
   "cell_type": "markdown",
   "metadata": {},
   "source": [
    "Clearly this does not work well. We even consider sparse data to see if LASSO out-preforms SINDy."
   ]
  },
  {
   "cell_type": "code",
   "execution_count": 9,
   "metadata": {},
   "outputs": [
    {
     "name": "stdout",
     "output_type": "stream",
     "text": [
      "                \n",
      "Sparse\n",
      "Coefficients                                  Norm Error                 Entry Error\n",
      "[[ 0.          0.        ]\n",
      " [ 0.66666667  1.        ]\n",
      " [-1.33333333 -1.        ]\n",
      " [ 0.          0.        ]\n",
      " [ 0.          0.        ]\n",
      " [ 0.          0.        ]\n",
      " [ 0.          0.        ]]                    6.899480070949581e-15             4.551914400963142e-15\n",
      "                \n",
      "Sparse and Random\n",
      "Coefficients                               Norm Error                 Entry Error\n",
      "[[ 0.          0.        ]\n",
      " [ 0.72837419  1.01227754]\n",
      " [-1.3442761  -1.01247894]\n",
      " [ 0.          0.        ]\n",
      " [ 0.          0.        ]\n",
      " [ 0.          0.        ]\n",
      " [ 0.          0.        ]]                 6.899480070949581e-15          4.551914400963142e-15\n",
      "                \n",
      "Lasso and Sparse\n",
      "Coefficients                               Norm Error                 Entry Error\n",
      "[[ 0.          0.        ]\n",
      " [ 0.37641166  0.70974279]\n",
      " [-1.01046099 -0.67712618]\n",
      " [-0.         -0.        ]\n",
      " [-0.         -0.        ]\n",
      " [-0.         -0.        ]\n",
      " [ 0.          0.        ]]             2.0548046676563256          1.3333333333333333\n"
     ]
    }
   ],
   "source": [
    "dXdt_sparse = np.empty([round(meshsize/10),2])\n",
    "Theta_sparse = np.empty([round(meshsize/10),7])\n",
    "\n",
    "for i in range(round(meshsize/10)):\n",
    "    dXdt_sparse[i,:] = dXdt[10*i,:]\n",
    "    Theta_sparse[i,:] = Theta[10*i,:]\n",
    "\n",
    "    \n",
    "#Solve for Coeffcients\n",
    "Xi = LA.lstsq(Theta_sparse,dXdt_sparse, rcond = None)[0]\n",
    "\n",
    "l=.5\n",
    "\n",
    "condition = np.abs(Xi) > l\n",
    "Xi_sparse = np.where(condition, Xi, np.zeros(Xi.shape))\n",
    "\n",
    "for j in range(total_variables):\n",
    "    vec = condition[:,j]\n",
    "    bigind = [i for i in range(len(vec)) if vec[i] == True]\n",
    "    Xi[bigind, j] = LA.lstsq(Theta_sparse[:, bigind], dXdt_sparse[:,j], rcond = None)[0]\n",
    "    \n",
    "norm_error_sparse = LA.norm(Xi_sparse-Actual)\n",
    "entry_error_sparse = np.amax(Xi_sparse-Actual)\n",
    "\n",
    "\n",
    "print('                ')\n",
    "print('Sparse') \n",
    "print('Coefficients                                  Norm Error                 Entry Error')\n",
    "print(Xi_sparse,'                  ', norm_error_sparse,'           ', entry_error_sparse)\n",
    "\n",
    "\n",
    "\n",
    "## Sparse and Noise\n",
    "\n",
    "eta = 1 # Noise magnitude\n",
    "Z = np.random.normal(0,eta,dXdt_sparse.size)\n",
    "Z = np.reshape(Z, dXdt_sparse.shape)\n",
    "\n",
    "dXdt_rand_sparse = dXdt_sparse - eta*Z \n",
    "\n",
    "#Solve for Coeffcients\n",
    "Xi_sparse_rand = LA.lstsq(Theta_sparse,dXdt_rand_sparse, rcond = None)[0]\n",
    "\n",
    "l=.5\n",
    "\n",
    "for k in range(25):\n",
    "    condition = np.abs(Xi) > l\n",
    "    Xi_sparse_rand = np.where(condition, Xi, np.zeros(Xi.shape))\n",
    "\n",
    "    for j in range(total_variables):\n",
    "        vec = condition[:,j]\n",
    "        bigind = [i for i in range(len(vec)) if vec[i] == True]\n",
    "        Xi[bigind, j] = LA.lstsq(Theta_sparse[:, bigind], dXdt_rand_sparse[:,j], rcond = None)[0]\n",
    "        \n",
    "    \n",
    "norm_error_sparse_rand = LA.norm(Xi_sparse-Actual)\n",
    "entry_error_sparse_rand = np.amax(Xi_sparse-Actual)\n",
    "\n",
    "\n",
    "print('                ')\n",
    "print('Sparse and Random')\n",
    "print('Coefficients                               Norm Error                 Entry Error')\n",
    "print(Xi_sparse_rand,'               ', norm_error_sparse_rand,'        ', entry_error_sparse_rand)\n",
    "\n",
    "## Trying Lasso on Sparse Data? Hopefully this makes things a litle better\n",
    "\n",
    "\n",
    "LSO = sklm.Lasso(alpha=0.01, max_iter=10000)\n",
    "LSO.fit(Theta_sparse, dXdt_sparse)\n",
    "Xi_Lasso_sparse = np.transpose(np.vstack((LSO.coef_[0][:],LSO.coef_[1][:])))\n",
    "\n",
    "norm_error_Lasso_sparse = LA.norm(Xi_Lasso-Actual)\n",
    "entry_error_Lasso_sparse = np.amax(Xi_Lasso-Actual)\n",
    "\n",
    "\n",
    "print('                ')\n",
    "print('Lasso and Sparse')\n",
    "print('Coefficients                               Norm Error                 Entry Error')\n",
    "print(Xi_Lasso_sparse,'           ', norm_error_Lasso_sparse,'        ', entry_error_Lasso_sparse)"
   ]
  },
  {
   "cell_type": "markdown",
   "metadata": {},
   "source": [
    "## Feburary 2, 2020: Lorenz System"
   ]
  },
  {
   "cell_type": "markdown",
   "metadata": {},
   "source": [
    "We now consider the Lorenz System with variables $x,y,z$ given below:\n",
    "$$\n",
    "\\begin{array}\n",
    "\\dot{x} = \\sigma(y-x)\\\\\n",
    "\\dot{y} = x(\\alpha-z)-y\\\\\n",
    "\\dot{z} = xy-\\beta z\n",
    "\\end{array}\n",
    "$$\n",
    "with $\\sigma = 10$, $alpha = 28$ and $\\beta = 8/3$. We run the simulation for a single orbit with initial conditions $[10,1,2]$. "
   ]
  },
  {
   "cell_type": "code",
   "execution_count": 12,
   "metadata": {},
   "outputs": [
    {
     "data": {
      "text/plain": [
       "[<mpl_toolkits.mplot3d.art3d.Line3D at 0x7f9c6ae456d0>]"
      ]
     },
     "execution_count": 12,
     "metadata": {},
     "output_type": "execute_result"
    },
    {
     "data": {
      "image/png": "[encoded data removed]",
      "text/plain": [
       "<Figure size 432x288 with 1 Axes>"
      ]
     },
     "metadata": {
      "needs_background": "light"
     },
     "output_type": "display_data"
    }
   ],
   "source": [
    "# Define the coefficients \n",
    "sigma = 10\n",
    "alpha = 28\n",
    "beta = 8/3\n",
    "\n",
    "#Time for dynamical system simulation\n",
    "tstart=0 # start time\n",
    "tstop=60 # end time\n",
    "meshsize=1000000\n",
    "time=np.linspace(tstart,tstop,meshsize) # setting up time mesh\n",
    "\n",
    "#Initial Values\n",
    "IP=[10,1,2]\n",
    "\n",
    "total_variables = 3\n",
    "\n",
    "# Lorenz Attractor Equation\n",
    "def Lor(X,t):\n",
    "    dXdt=[sigma*(X[1]-X[0]), X[0]*(alpha-X[2])- X[1], X[0]*X[1]-beta*X[2]]\n",
    "    return dXdt\n",
    "\n",
    "# Simulate the trajectory\n",
    "A=integrate.odeint(Lor, IP, time)\n",
    "\n",
    "\n",
    "# Find dXdt\n",
    "dXdt=np.empty([meshsize,total_variables])\n",
    "\n",
    "for i in range(meshsize):\n",
    "    dXdt[i,:]=Lor(A[i,:], time[i])\n",
    "    \n",
    "ax = mplot.axes(projection = '3d')\n",
    "ax.plot(A[:,0], A[:,1], A[:,2])"
   ]
  },
  {
   "cell_type": "markdown",
   "metadata": {},
   "source": [
    "We then return to using SINDy. Here we consider considerably more guesses. To be able to do this efficiently, we define all the polynomial guesses in a loop. From this we run SINDy as a regression and have the results below. "
   ]
  },
  {
   "cell_type": "code",
   "execution_count": 13,
   "metadata": {},
   "outputs": [
    {
     "name": "stdout",
     "output_type": "stream",
     "text": [
      "Normal\n",
      "Coefficients                                        Norm Error                    Entry Error\n",
      "[[  0.           0.           0.        ]\n",
      " [-10.          28.           0.        ]\n",
      " [ 10.          -1.           0.        ]\n",
      " [  0.           0.          -2.66666667]\n",
      " [  0.           0.           0.        ]\n",
      " [  0.           0.           1.        ]\n",
      " [  0.          -1.           0.        ]\n",
      " [  0.           0.           0.        ]\n",
      " [  0.           0.           0.        ]\n",
      " [  0.           0.           0.        ]\n",
      " [  0.           0.           0.        ]\n",
      " [  0.           0.           0.        ]\n",
      " [  0.           0.           0.        ]]           4.5043270979806086e-13              2.9309887850104133e-13\n"
     ]
    }
   ],
   "source": [
    "i=0\n",
    "total_guesses = 1 + total_variables + total_variables**2\n",
    "\n",
    "Actual = np.zeros([total_guesses, total_variables])\n",
    "Actual[1,:] = [-10, 28, 0]\n",
    "Actual[2,:] = [10, -1, 0]\n",
    "Actual[3,:] = [0, 0, -8/3]\n",
    "Actual[5,2] = 1\n",
    "Actual[6,1] = -1\n",
    "\n",
    "Theta = np.empty([meshsize,total_guesses])\n",
    "Theta[:,0] = np.ones(meshsize)\n",
    "i = i+1\n",
    "\n",
    "for j in range(total_variables):\n",
    "    Theta[:,i] = A[:, j]\n",
    "    i = i+1\n",
    "\n",
    " # Uncomment if quadratic terms are desired \n",
    "for j in range(total_variables):\n",
    "    for l in range(total_variables-j):\n",
    "        Theta[:,i] = A[:,j]*A[:,l+j]\n",
    "        i = i+1\n",
    "\n",
    "#Solve for Coeffcients\n",
    "Xi = LA.lstsq(Theta,dXdt, rcond = None)[0]\n",
    "\n",
    "l=.5\n",
    "\n",
    "condition = np.abs(Xi) > l\n",
    "Xi = np.where(condition, Xi, np.zeros(Xi.shape))\n",
    "\n",
    "for j in range(total_variables):\n",
    "    vec = condition[:,j]\n",
    "    bigind = [i for i in range(len(vec)) if vec[i] == True]\n",
    "    Xi[bigind, j] = LA.lstsq(Theta[:, bigind], dXdt[:,j], rcond = None)[0]\n",
    "    \n",
    "norm_error = LA.norm(Xi-Actual)\n",
    "entry_error = np.amax(abs(Xi-Actual))\n",
    "\n",
    "print('Normal')\n",
    "print('Coefficients                                        Norm Error                    Entry Error')\n",
    "print(Xi,'         ', norm_error,'            ', entry_error)\n"
   ]
  },
  {
   "cell_type": "markdown",
   "metadata": {},
   "source": [
    "We then proceed with the same simulations as the Lotka-Volterra simulations with added noise and LASSO comparisons."
   ]
  },
  {
   "cell_type": "code",
   "execution_count": 16,
   "metadata": {},
   "outputs": [
    {
     "name": "stdout",
     "output_type": "stream",
     "text": [
      "                \n",
      "Noise\n",
      "Coefficients                               Norm Error                 Entry Error\n",
      "[[ 0.          0.          0.        ]\n",
      " [-9.99991017 28.00130242  0.        ]\n",
      " [ 9.99992393 -1.00068382  0.        ]\n",
      " [ 0.          0.         -2.66667204]\n",
      " [ 0.          0.          0.        ]\n",
      " [ 0.          0.          1.00000606]\n",
      " [ 0.         -1.00001933  0.        ]\n",
      " [ 0.          0.          0.        ]\n",
      " [ 0.          0.          0.        ]\n",
      " [ 0.          0.          0.        ]\n",
      " [ 0.          0.          0.        ]\n",
      " [ 0.          0.          0.        ]\n",
      " [ 0.          0.          0.        ]]       0.001475872574956473          0.0013024208422471872\n",
      "                \n",
      "Lasso\n",
      "Coefficients                               Norm Error                 Entry Error\n",
      "[[ 0.00000000e+00  0.00000000e+00  0.00000000e+00]\n",
      " [-4.60114554e+00  2.59638228e+01  0.00000000e+00]\n",
      " [ 6.52486799e+00  1.26647165e-01  0.00000000e+00]\n",
      " [ 0.00000000e+00 -0.00000000e+00 -4.98412884e-01]\n",
      " [-4.20211694e-03  0.00000000e+00  2.44726436e-01]\n",
      " [ 5.81982484e-03 -0.00000000e+00  7.93157206e-01]\n",
      " [-1.50869004e-01 -9.44417817e-01 -0.00000000e+00]\n",
      " [-2.65652346e-03  1.40249604e-04  3.56097299e-02]\n",
      " [ 9.74813351e-02 -2.88298593e-02  7.02097610e-04]\n",
      " [ 7.23032357e-04 -1.71841662e-04 -6.02370630e-02]\n",
      " [ 0.00000000e+00  0.00000000e+00  0.00000000e+00]\n",
      " [ 0.00000000e+00  0.00000000e+00  0.00000000e+00]\n",
      " [ 0.00000000e+00  0.00000000e+00  0.00000000e+00]]       7.175281416134129          5.398854459261558\n",
      "                \n",
      "Sparse\n",
      "Coefficients                   Norm Error                 Entry Error\n",
      "[[  0.           0.           0.        ]\n",
      " [-10.          28.           0.        ]\n",
      " [ 10.          -1.           0.        ]\n",
      " [  0.           0.          -2.66666667]\n",
      " [  0.           0.           0.        ]\n",
      " [  0.           0.           1.        ]\n",
      " [  0.          -1.           0.        ]\n",
      " [  0.           0.           0.        ]\n",
      " [  0.           0.           0.        ]\n",
      " [  0.           0.           0.        ]\n",
      " [  0.           0.           0.        ]\n",
      " [  0.           0.           0.        ]\n",
      " [  0.           0.           0.        ]]         3.663427797304061e-13               1.4721557306529576e-13\n",
      "                \n",
      "Sparse and Random\n",
      "Coefficients                               Norm Error                 Entry Error\n",
      "[[ 0.          0.          0.        ]\n",
      " [-9.99994776 27.99840514  0.        ]\n",
      " [10.00019334 -0.99960159  0.        ]\n",
      " [ 0.          0.         -2.6664673 ]\n",
      " [ 0.          0.          0.        ]\n",
      " [ 0.          0.          0.99990505]\n",
      " [ 0.         -0.99996466  0.        ]\n",
      " [ 0.          0.          0.        ]\n",
      " [ 0.          0.          0.        ]\n",
      " [ 0.          0.          0.        ]\n",
      " [ 0.          0.          0.        ]\n",
      " [ 0.          0.          0.        ]\n",
      " [ 0.          0.          0.        ]]        3.663427797304061e-13                  1.4721557306529576e-13\n"
     ]
    }
   ],
   "source": [
    "eta = 1 # Noise magnitude\n",
    "Z = np.random.normal(0,eta,dXdt.size)\n",
    "Z = np.reshape(Z, dXdt.shape)\n",
    "\n",
    "Random_dXdt = dXdt - eta*Z \n",
    "\n",
    "#Solve for Coeffcients\n",
    "Xi_rand = LA.lstsq(Theta,Random_dXdt, rcond = None)[0]\n",
    "\n",
    "l=.5\n",
    "\n",
    "for k in range(10):\n",
    "    condition = np.abs(Xi) > l\n",
    "    Xi_rand = np.where(condition, Xi, np.zeros(Xi.shape))\n",
    "\n",
    "    for j in range(total_variables):\n",
    "        vec = condition[:,j]\n",
    "        bigind = [i for i in range(len(vec)) if vec[i] == True]\n",
    "        Xi_rand[bigind, j] = LA.lstsq(Theta[:, bigind], Random_dXdt[:,j], rcond = None)[0]\n",
    "\n",
    "norm_error_rand = LA.norm(Xi_rand-Actual)\n",
    "entry_error_rand = np.amax(Xi_rand-Actual)\n",
    "\n",
    "print('                ')\n",
    "print('Noise')\n",
    "print('Coefficients                               Norm Error                 Entry Error')\n",
    "print(Xi_rand,'     ', norm_error_rand,'        ', entry_error_rand)\n",
    "\n",
    "\n",
    "#%% Trying Lasso\n",
    "\n",
    "LSO = sklm.Lasso(alpha=1, max_iter=5000, warm_start='True', selection='random')\n",
    "LSO.fit(Theta, dXdt)\n",
    "Xi_Lasso = np.transpose(np.vstack((LSO.coef_[0][:],LSO.coef_[1][:], LSO.coef_[2])))\n",
    "\n",
    "norm_error_Lasso = LA.norm(Xi_Lasso-Actual)\n",
    "entry_error_Lasso = np.amax(Xi_Lasso-Actual)\n",
    "\n",
    "\n",
    "print('                ')\n",
    "print('Lasso')\n",
    "print('Coefficients                               Norm Error                 Entry Error')\n",
    "print(Xi_Lasso,'     ', norm_error_Lasso,'        ', entry_error_Lasso)\n",
    "\n",
    "#%% Working with sparser data\n",
    "\n",
    "dXdt_sparse = np.empty([round(meshsize/10),3])\n",
    "Theta_sparse = np.empty([round(meshsize/10),total_guesses])\n",
    "\n",
    "for i in range(round(meshsize/10)):\n",
    "    dXdt_sparse[i,:] = dXdt[10*i,:]\n",
    "    Theta_sparse[i,:] = Theta[10*i,:]\n",
    "\n",
    "    \n",
    "#Solve for Coeffcients\n",
    "Xi_sparse = LA.lstsq(Theta_sparse,dXdt_sparse, rcond = None)[0]\n",
    "\n",
    "l=.5\n",
    "\n",
    "condition = np.abs(Xi) > l\n",
    "Xi_sparse = np.where(condition, Xi, np.zeros(Xi.shape))\n",
    "\n",
    "for j in range(total_variables):\n",
    "    vec = condition[:,j]\n",
    "    bigind = [i for i in range(len(vec)) if vec[i] == True]\n",
    "    Xi_sparse[bigind, j] = LA.lstsq(Theta_sparse[:, bigind], dXdt_sparse[:,j], rcond = None)[0]\n",
    "\n",
    "\n",
    "norm_error_sparse = LA.norm(Xi_sparse-Actual)\n",
    "entry_error_sparse = np.amax(Xi_sparse-Actual)\n",
    "\n",
    "\n",
    "print('                ')\n",
    "print('Sparse')\n",
    "print('Coefficients                   Norm Error                 Entry Error')\n",
    "print(Xi_sparse,'       ', norm_error_sparse,'             ', entry_error_sparse)\n",
    "\n",
    "\n",
    "\n",
    "## Sparse and Noise\n",
    "\n",
    "eta = 1 # Noise magnitude\n",
    "Z = np.random.normal(0,eta,dXdt_sparse.size)\n",
    "Z = np.reshape(Z, dXdt_sparse.shape)\n",
    "\n",
    "dXdt_rand_sparse = dXdt_sparse - eta*Z \n",
    "\n",
    "#Solve for Coeffcients\n",
    "Xi_sparse_rand = LA.lstsq(Theta_sparse,dXdt_rand_sparse, rcond = None)[0]\n",
    "\n",
    "l=.5\n",
    "\n",
    "for k in range(10):\n",
    "    condition = np.abs(Xi) > l\n",
    "    Xi_sparse_rand = np.where(condition, Xi, np.zeros(Xi.shape))\n",
    "\n",
    "    for j in range(total_variables):\n",
    "        vec = condition[:,j]\n",
    "        bigind = [i for i in range(len(vec)) if vec[i] == True]\n",
    "        Xi_sparse_rand[bigind, j] = LA.lstsq(Theta_sparse[:, bigind], dXdt_rand_sparse[:,j], rcond = None)[0]\n",
    "        \n",
    "    \n",
    "norm_error_sparse_rand = LA.norm(Xi_sparse-Actual)\n",
    "entry_error_sparse_rand = np.amax(Xi_sparse-Actual)\n",
    "\n",
    "\n",
    "print('                ')\n",
    "print('Sparse and Random')\n",
    "print('Coefficients                               Norm Error                 Entry Error')\n",
    "print(Xi_sparse_rand,'      ', norm_error_sparse_rand,'                ', entry_error_sparse_rand)"
   ]
  },
  {
   "cell_type": "markdown",
   "metadata": {},
   "source": []
  }
 ],
 "metadata": {
  "kernelspec": {
   "display_name": "Python 3",
   "language": "python",
   "name": "python3"
  },
  "language_info": {
   "codemirror_mode": {
    "name": "ipython",
    "version": 3
   },
   "file_extension": ".py",
   "mimetype": "text/x-python",
   "name": "python",
   "nbconvert_exporter": "python",
   "pygments_lexer": "ipython3",
   "version": "3.7.4"
  }
 },
 "nbformat": 4,
 "nbformat_minor": 2
}
